{
 "cells": [
  {
   "cell_type": "markdown",
   "id": "ceaa1298-ff7e-4de6-bfc9-39818db31176",
   "metadata": {},
   "source": [
    "#"
   ]
  },
  {
   "cell_type": "code",
   "execution_count": 46,
   "id": "e087d4e2-3a8f-40ee-bc08-f8265149c429",
   "metadata": {},
   "outputs": [
    {
     "name": "stdout",
     "output_type": "stream",
     "text": [
      "Original array:  [1 2 3 4 5]\n",
      "Addition of 2 in all the elements:  [3 4 5 6 7]\n",
      "Multiplication of 3 in all the elements:  [ 3  6  9 12 15]\n",
      "Division by 2 in all the elements:  [0.5 1.  1.5 2.  2.5]\n"
     ]
    }
   ],
   "source": [
    "import numpy as np\n",
    "a=np.array([1,2,3,4,5])\n",
    "print(\"Original array: \",a)\n",
    "print(\"Addition of 2 in all the elements: \",a+2)\n",
    "print(\"Multiplication of 3 in all the elements: \",a*3)\n",
    "print(\"Division by 2 in all the elements: \",a/2)"
   ]
  },
  {
   "cell_type": "code",
   "execution_count": 49,
   "id": "a16e5f70-cfcb-47ed-a883-11e5607ccb86",
   "metadata": {},
   "outputs": [
    {
     "name": "stdout",
     "output_type": "stream",
     "text": [
      "Original array:  [1 2 3 6 4 5]\n",
      "Reversed array:  [5 4 6 3 2 1]\n",
      "Array x:  [1 2 3 4 5 1 2 1 1 1]\n",
      "Mode of x:  1\n",
      "Maximum frequency of mode of array:  5\n",
      "Array y:  [1 1 1 2 3 4 2 4 3 3]\n",
      "Mode of y: 1 3 \n",
      "Maximum frequency of mode of array:  3\n"
     ]
    }
   ],
   "source": [
    "a=np.array([1,2,3,6,4,5])\n",
    "print(\"Original array: \",a)\n",
    "print(\"Reversed array: \",np.flip(a))\n",
    "x=np.array([1,2,3,4,5,1,2,1,1,1])\n",
    "print(\"Array x: \",x)\n",
    "print(\"Mode of x: \",np.bincount(x).argmax())\n",
    "print(\"Maximum frequency of mode of array: \",np.bincount(x).max())\n",
    "y=np.array([1,1,1,2,3,4,2,4,3,3,])\n",
    "print(\"Array y: \",y)\n",
    "b=np.bincount(y)\n",
    "maximum=max(b)\n",
    "print(\"Mode of y: \",end=\"\")\n",
    "for i in range(len(b)):\n",
    "    if b[i]==maximum:\n",
    "        print(i,end=\" \")\n",
    "print()\n",
    "print(\"Maximum frequency of mode of array: \",np.bincount(y).max())"
   ]
  },
  {
   "cell_type": "code",
   "execution_count": 50,
   "id": "918b55e0-f9ab-47e5-83af-cf3fb284e9fc",
   "metadata": {},
   "outputs": [
    {
     "name": "stdout",
     "output_type": "stream",
     "text": [
      "Array:  [[10 20 30]\n",
      " [40 50 60]\n",
      " [70 80 90]]\n",
      "Element at first row second column:  20\n",
      "Element at third row first column:  70\n"
     ]
    }
   ],
   "source": [
    "arr=np.array([[10,20,30],[40,50,60],[70,80,90]])\n",
    "print(\"Array: \",arr)\n",
    "print(\"Element at first row second column: \",arr[0,1])\n",
    "print(\"Element at third row first column: \",arr[2,0])"
   ]
  },
  {
   "cell_type": "code",
   "execution_count": 51,
   "id": "2550f736-9205-409a-924b-3c6c8a7d7538",
   "metadata": {},
   "outputs": [
    {
     "name": "stdout",
     "output_type": "stream",
     "text": [
      "Original Array:  [ 10.    13.75  17.5   21.25  25.    28.75  32.5   36.25  40.    43.75\n",
      "  47.5   51.25  55.    58.75  62.5   66.25  70.    73.75  77.5   81.25\n",
      "  85.    88.75  92.5   96.25 100.  ]\n",
      "Dimension of array:  1\n",
      "Shape of array:  (25,)\n",
      "Total no. of elements of Array 25\n",
      "Datatype of array:  float64\n",
      "Size of array(Bytes):  200\n",
      "Transpose of array using reshape:  [[ 10.  ]\n",
      " [ 13.75]\n",
      " [ 17.5 ]\n",
      " [ 21.25]\n",
      " [ 25.  ]\n",
      " [ 28.75]\n",
      " [ 32.5 ]\n",
      " [ 36.25]\n",
      " [ 40.  ]\n",
      " [ 43.75]\n",
      " [ 47.5 ]\n",
      " [ 51.25]\n",
      " [ 55.  ]\n",
      " [ 58.75]\n",
      " [ 62.5 ]\n",
      " [ 66.25]\n",
      " [ 70.  ]\n",
      " [ 73.75]\n",
      " [ 77.5 ]\n",
      " [ 81.25]\n",
      " [ 85.  ]\n",
      " [ 88.75]\n",
      " [ 92.5 ]\n",
      " [ 96.25]\n",
      " [100.  ]]\n",
      "Transpose using attribute T:  [ 10.    13.75  17.5   21.25  25.    28.75  32.5   36.25  40.    43.75\n",
      "  47.5   51.25  55.    58.75  62.5   66.25  70.    73.75  77.5   81.25\n",
      "  85.    88.75  92.5   96.25 100.  ]\n"
     ]
    }
   ],
   "source": [
    "nikhilh=np.linspace(10,100,25)\n",
    "print(\"Original Array: \",nikhil)\n",
    "print(\"Dimension of array: \",nikhil.ndim)\n",
    "print(\"Shape of array: \",nikhil.shape)\n",
    "print(\"Total no. of elements of Array\",nikhil.size)\n",
    "print(\"Datatype of array: \",nikhil.dtype)\n",
    "print(\"Size of array(Bytes): \"nikhil.itemsize*nikhil.size)\n",
    "print(\"Transpose of array using reshape: \",nikhil.reshape(nikhil.size,1))\n",
    "print(\"Transpose using attribute T: \",nikhil.T)"
   ]
  },
  {
   "cell_type": "code",
   "execution_count": 52,
   "id": "0acbf43c-9b5b-4ca7-b48e-244567d15a59",
   "metadata": {},
   "outputs": [
    {
     "name": "stdout",
     "output_type": "stream",
     "text": [
      "Original array:  [[10 20 30 40]\n",
      " [50 60 70 80]\n",
      " [90 15 20 35]]\n",
      "Mean of array:  43.333333333333336\n",
      "Median of array:  37.5\n",
      "Max of array:  90\n",
      "Min of array:  10\n",
      "Unique of elements of array:  [10 15 20 30 35 40 50 60 70 80 90]\n",
      "Reshaped array(4,3):  [[10 20 30]\n",
      " [40 50 60]\n",
      " [70 80 90]\n",
      " [15 20 35]]\n",
      "Resized array(2,3):  [[10 20 30]\n",
      " [40 50 60]]\n"
     ]
    }
   ],
   "source": [
    "ucs420_nikhil=np.array([10,20,30,40,50,60,70,80,90,15,20,35]).reshape(3,4)\n",
    "print(\"Original array: \",ucs420_nikhil)\n",
    "print(\"Mean of array: \",np.mean(ucs420_nikhil))\n",
    "print(\"Median of array: \",np.median(ucs420_nikhil))\n",
    "print(\"Max of array: \",np.max(ucs420_nikhil))\n",
    "print(\"Min of array: \",np.min(ucs420_nikhil))\n",
    "print(\"Unique of elements of array: \",np.unique(ucs420_nikhil))\n",
    "reshaped_ucs420_nikhil=ucs420_nikhil.reshape(4,3)\n",
    "print(\"Reshaped array(4,3): \",reshaped_ucs420_nikhil)\n",
    "resized_ucs420_nikhil=np.resize(ucs420_nikhil,(2,3))\n",
    "print(\"Resized array(2,3): \",resized_ucs420_nikhil)"
   ]
  },
  {
   "cell_type": "code",
   "execution_count": null,
   "id": "cda69347-ac7e-4d66-9474-388fe524d4d9",
   "metadata": {},
   "outputs": [],
   "source": []
  }
 ],
 "metadata": {
  "kernelspec": {
   "display_name": "Python 3 (ipykernel)",
   "language": "python",
   "name": "python3"
  },
  "language_info": {
   "codemirror_mode": {
    "name": "ipython",
    "version": 3
   },
   "file_extension": ".py",
   "mimetype": "text/x-python",
   "name": "python",
   "nbconvert_exporter": "python",
   "pygments_lexer": "ipython3",
   "version": "3.13.1"
  }
 },
 "nbformat": 4,
 "nbformat_minor": 5
}
