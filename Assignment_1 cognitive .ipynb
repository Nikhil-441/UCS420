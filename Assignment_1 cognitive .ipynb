{
 "cells": [
  {
   "cell_type": "code",
   "execution_count": 5,
   "id": "cd4a2184-dbae-4fc6-834d-818f563b1185",
   "metadata": {},
   "outputs": [
    {
     "name": "stdout",
     "output_type": "stream",
     "text": [
      "Hello World\n"
     ]
    }
   ],
   "source": [
    "#1\n",
    "print (\"Hello World\")"
   ]
  },
  {
   "cell_type": "code",
   "execution_count": 1,
   "id": "2ddb11c5-8697-484d-8ea8-21c922d37748",
   "metadata": {},
   "outputs": [
    {
     "name": "stdout",
     "output_type": "stream",
     "text": [
      "nikhil\n",
      "nikhil\n",
      "nikhil\n"
     ]
    }
   ],
   "source": [
    "#Assignment 1.1\n",
    "for i in range(3):\n",
    "    print('nikhil')"
   ]
  },
  {
   "cell_type": "code",
   "execution_count": 6,
   "id": "31cbb0a7-a951-4605-813c-f3502e0239b1",
   "metadata": {},
   "outputs": [
    {
     "name": "stdout",
     "output_type": "stream",
     "text": [
      "10  +  220  -->  230\n"
     ]
    }
   ],
   "source": [
    "#2.1\n",
    "a = 10\n",
    "b = 220\n",
    "c = a + b       # Add two numbers\n",
    "print (a, \" + \", b, \" --> \", c)"
   ]
  },
  {
   "cell_type": "code",
   "execution_count": 7,
   "id": "52081620-93cb-4ff3-bb98-7ee738624aec",
   "metadata": {},
   "outputs": [
    {
     "name": "stdout",
     "output_type": "stream",
     "text": [
      "Bhagat  +   Singh  -->  Bhagat Singh\n"
     ]
    }
   ],
   "source": [
    "#2.2\n",
    "a = \"Bhagat\"\n",
    "b = \" Singh\"\n",
    "c = a + b\t\t# Concatinate two strings\n",
    "print (a, \" + \", b, \" --> \", c)"
   ]
  },
  {
   "cell_type": "code",
   "execution_count": 2,
   "id": "58dbe1f5-ee92-44d9-8761-eed87f58aa7a",
   "metadata": {},
   "outputs": [
    {
     "name": "stdout",
     "output_type": "stream",
     "text": [
      "10  +  20  +  30  -->  60\n"
     ]
    }
   ],
   "source": [
    "#Assignment 2.1\n",
    "a,b,c=10,20,30\n",
    "d=a+b+c\n",
    "print(a,\" + \",b,\" + \",c,\" --> \",d)"
   ]
  },
  {
   "cell_type": "code",
   "execution_count": 8,
   "id": "a8576dd4-028f-4613-90ee-4c2c8f9ae0db",
   "metadata": {},
   "outputs": [
    {
     "name": "stdout",
     "output_type": "stream",
     "text": [
      "Hel  +  lo wo  +  rld  -->  Hello world\n"
     ]
    }
   ],
   "source": [
    "#Assignment 2.2\n",
    "a,b,c='Hel','lo wo','rld'\n",
    "d=a+b+c\n",
    "print(a,\" + \",b,\" + \",c,\" --> \",d)"
   ]
  },
  {
   "cell_type": "code",
   "execution_count": 9,
   "id": "810e1aac-18df-49bc-929a-20d3db77941d",
   "metadata": {},
   "outputs": [
    {
     "name": "stdin",
     "output_type": "stream",
     "text": [
      "Enter First String:  Shyam\n",
      "Enter Second String:  Patiala\n"
     ]
    },
    {
     "name": "stdout",
     "output_type": "stream",
     "text": [
      "Shyam  +  Patiala       -->  ShyamPatiala\n"
     ]
    }
   ],
   "source": [
    "#3.1\n",
    "a = input(\"Enter First String: \")\n",
    "b = input(\"Enter Second String: \")\n",
    "c = a + b\t\t# concatinate two strings\n",
    "print  (a, \" + \", b, \"      --> \", c)\n",
    "\n",
    "# Run the program with (1) Two strings and (2) Two numbers"
   ]
  },
  {
   "cell_type": "code",
   "execution_count": 10,
   "id": "f7307f8a-16d1-4748-ac34-80143b8ccf0d",
   "metadata": {},
   "outputs": [
    {
     "name": "stdin",
     "output_type": "stream",
     "text": [
      "Enter First No:  45\n",
      "Enter Second No:  87\n"
     ]
    },
    {
     "name": "stdout",
     "output_type": "stream",
     "text": [
      "45  +  87  -->  132\n"
     ]
    }
   ],
   "source": [
    "#3.2\n",
    "a = int(input(\"Enter First No: \"))\n",
    "b = int(input(\"Enter Second No: \"))\n",
    "c = a + b\n",
    "print (a, \" + \", b, \" --> \", c)"
   ]
  },
  {
   "cell_type": "code",
   "execution_count": 12,
   "id": "887896ac-d840-44a4-955f-7d6ae3265e8b",
   "metadata": {},
   "outputs": [
    {
     "name": "stdout",
     "output_type": "stream",
     "text": [
      "1\n",
      "2\n",
      "3\n",
      "4\n",
      "5\n",
      "6\n",
      "7\n",
      "8\n",
      "9\n",
      "10\n"
     ]
    }
   ],
   "source": [
    "#4.1\n",
    "i=1\n",
    "while i <= 10:\n",
    "\tprint (i)\n",
    "\ti = i+1"
   ]
  },
  {
   "cell_type": "code",
   "execution_count": 13,
   "id": "2da425ef-ff7a-4b46-a06e-c6326d08c23d",
   "metadata": {},
   "outputs": [
    {
     "name": "stdout",
     "output_type": "stream",
     "text": [
      "range(10)        -->  [0, 1, 2, 3, 4, 5, 6, 7, 8, 9]\n",
      "range(10,20)     -->  [10, 11, 12, 13, 14, 15, 16, 17, 18, 19]\n",
      "range(0,20,2)    -->  [2, 4, 6, 8, 10, 12, 14, 16, 18]\n",
      "range(-10,-20,2) -->  []\n",
      "range(-10,-20,-2)-->  [-10, -12, -14, -16, -18]\n"
     ]
    }
   ],
   "source": [
    "#4.2\n",
    "print (\"range(10)        --> \", list(range(10)))\n",
    "print (\"range(10,20)     --> \", list(range(10,20)))\n",
    "print (\"range(0,20,2)    --> \", list(range(2,20,2)))\n",
    "print (\"range(-10,-20,2) --> \", list(range(-10,-20,2)))\n",
    "print (\"range(-10,-20,-2)--> \", list(range(-10,-20,-2)))"
   ]
  },
  {
   "cell_type": "code",
   "execution_count": 14,
   "id": "2110bc0a-5ffa-4288-96d2-46eb07777a83",
   "metadata": {},
   "outputs": [
    {
     "name": "stdout",
     "output_type": "stream",
     "text": [
      "0\n",
      "1\n",
      "2\n",
      "3\n",
      "4\n",
      "5\n",
      "6\n",
      "7\n",
      "8\n",
      "9\n"
     ]
    }
   ],
   "source": [
    "#4.3.1\n",
    "for i in range(0,10):\n",
    "\tprint (i)"
   ]
  },
  {
   "cell_type": "code",
   "execution_count": 15,
   "id": "519c00e1-2445-49b0-af61-59ccfd088ebe",
   "metadata": {},
   "outputs": [
    {
     "name": "stdout",
     "output_type": "stream",
     "text": [
      "0\n",
      "2\n",
      "4\n",
      "6\n",
      "8\n",
      "10\n",
      "12\n",
      "14\n",
      "16\n",
      "18\n"
     ]
    }
   ],
   "source": [
    "#4.3.2\n",
    "for i in range(0,20,2):\n",
    "\tprint (i)"
   ]
  },
  {
   "cell_type": "code",
   "execution_count": 16,
   "id": "b5c1dd36-bbb0-4710-aed0-80b0ddd650ac",
   "metadata": {},
   "outputs": [
    {
     "name": "stdout",
     "output_type": "stream",
     "text": [
      "0\n",
      "-1\n",
      "-2\n",
      "-3\n",
      "-4\n",
      "-5\n",
      "-6\n",
      "-7\n",
      "-8\n",
      "-9\n"
     ]
    }
   ],
   "source": [
    "#4.3.3\n",
    "for i in range(0,-10,-1):\n",
    "\tprint (i)"
   ]
  },
  {
   "cell_type": "code",
   "execution_count": 17,
   "id": "ec7c7add-efb1-48bb-aa9d-69806d098fd7",
   "metadata": {},
   "outputs": [
    {
     "name": "stdout",
     "output_type": "stream",
     "text": [
      "5  *  1  =  5\n",
      "5  *  2  =  10\n",
      "5  *  3  =  15\n",
      "5  *  4  =  20\n",
      "5  *  5  =  25\n",
      "5  *  6  =  30\n",
      "5  *  7  =  35\n",
      "5  *  8  =  40\n",
      "5  *  9  =  45\n",
      "5  *  10  =  50\n"
     ]
    }
   ],
   "source": [
    "#4.4\n",
    "for i in range(1,11):\n",
    "\tprint (5,\" * \", i , \" = \", i * 5)"
   ]
  },
  {
   "cell_type": "code",
   "execution_count": 18,
   "id": "aefc75c0-4426-4c92-93d2-0eb72cf1bc3a",
   "metadata": {},
   "outputs": [
    {
     "name": "stdout",
     "output_type": "stream",
     "text": [
      "Sum is -->  55\n"
     ]
    }
   ],
   "source": [
    "#4.5.1\n",
    "s=0\n",
    "for i in range(1,11):\n",
    "\ts=s+i\n",
    "print (\"Sum is --> \",s)"
   ]
  },
  {
   "cell_type": "code",
   "execution_count": 19,
   "id": "6ad13f97-67a6-4f9b-9936-c8c2dc9a5798",
   "metadata": {},
   "outputs": [
    {
     "name": "stdout",
     "output_type": "stream",
     "text": [
      "Sum is -->  55\n"
     ]
    }
   ],
   "source": [
    "#4.5.2\n",
    "print (\"Sum is --> \", sum(range(1,11)))"
   ]
  },
  {
   "cell_type": "code",
   "execution_count": 20,
   "id": "68418e06-f0a9-472c-9bbb-a5c48eea1ea5",
   "metadata": {},
   "outputs": [
    {
     "name": "stdout",
     "output_type": "stream",
     "text": [
      "7  *  1  =  7\n",
      "7  *  2  =  14\n",
      "7  *  3  =  21\n",
      "7  *  4  =  28\n",
      "7  *  5  =  35\n",
      "7  *  6  =  42\n",
      "7  *  7  =  49\n",
      "7  *  8  =  56\n",
      "7  *  9  =  63\n",
      "7  *  10  =  70\n",
      "\n",
      "\n",
      "9  *  1  =  9\n",
      "9  *  2  =  18\n",
      "9  *  3  =  27\n",
      "9  *  4  =  36\n",
      "9  *  5  =  45\n",
      "9  *  6  =  54\n",
      "9  *  7  =  63\n",
      "9  *  8  =  72\n",
      "9  *  9  =  81\n",
      "9  *  10  =  90\n"
     ]
    }
   ],
   "source": [
    "#Assignment 4.1\n",
    "for i in range(1,11):\n",
    "\tprint (7,\" * \", i , \" = \", i * 7)\n",
    "print('\\n')\n",
    "for i in range(1,11):\n",
    "\tprint (9,\" * \", i , \" = \", i * 9)"
   ]
  },
  {
   "cell_type": "code",
   "execution_count": 21,
   "id": "ef193b14-dea2-4913-8138-6e62bbbf51b4",
   "metadata": {},
   "outputs": [
    {
     "name": "stdin",
     "output_type": "stream",
     "text": [
      "Enter the value of n:  3\n"
     ]
    },
    {
     "name": "stdout",
     "output_type": "stream",
     "text": [
      "3  *  1  =  3\n",
      "3  *  2  =  6\n",
      "3  *  3  =  9\n",
      "3  *  4  =  12\n",
      "3  *  5  =  15\n",
      "3  *  6  =  18\n",
      "3  *  7  =  21\n",
      "3  *  8  =  24\n",
      "3  *  9  =  27\n",
      "3  *  10  =  30\n"
     ]
    }
   ],
   "source": [
    "#Assignment 4.2\n",
    "n=int(input('Enter the value of n: '))\n",
    "for i in range(1,11):\n",
    "\tprint (n,\" * \", i , \" = \", i * n)"
   ]
  },
  {
   "cell_type": "code",
   "execution_count": 23,
   "id": "ca8532f4-eeb2-4c93-aed0-9cc7dadab691",
   "metadata": {},
   "outputs": [
    {
     "name": "stdin",
     "output_type": "stream",
     "text": [
      "Enter the value of n:  19\n"
     ]
    },
    {
     "name": "stdout",
     "output_type": "stream",
     "text": [
      "Sum is -->  190\n"
     ]
    }
   ],
   "source": [
    "#Assignment 4.3\n",
    "n=int(input('Enter the value of n: '))\n",
    "print (\"Sum is --> \", sum(range(1,n+1)))"
   ]
  },
  {
   "cell_type": "code",
   "execution_count": 24,
   "id": "d35adba9-5b92-4eba-9544-7f73cccfc8c6",
   "metadata": {},
   "outputs": [
    {
     "name": "stdin",
     "output_type": "stream",
     "text": [
      "Enter First No:  43\n",
      "Enter Second No:  21\n"
     ]
    },
    {
     "name": "stdout",
     "output_type": "stream",
     "text": [
      "43  >  21\n"
     ]
    }
   ],
   "source": [
    "#5.1\n",
    "a = int(input(\"Enter First No: \"))\n",
    "b = int(input(\"Enter Second No: \"))\n",
    "if  a > b:\n",
    "\tprint (a,\" > \",b)\n",
    "else:\n",
    "\tprint (a,\" < \",b)"
   ]
  },
  {
   "cell_type": "code",
   "execution_count": 25,
   "id": "2961f0ae-6f0d-4528-8c6f-9507663506d0",
   "metadata": {},
   "outputs": [
    {
     "name": "stdin",
     "output_type": "stream",
     "text": [
      "Enter a No:  23\n"
     ]
    },
    {
     "name": "stdout",
     "output_type": "stream",
     "text": [
      "23  is odd\n"
     ]
    }
   ],
   "source": [
    "#5.2\n",
    "n = int(input(\"Enter a No: \"))\n",
    "if  n % 2 == 0:\n",
    "\tprint (n,\" is even\")\n",
    "else:\n",
    "\tprint (n,\" is odd\")"
   ]
  },
  {
   "cell_type": "code",
   "execution_count": 26,
   "id": "42a9b889-db56-4022-b837-efe862b12819",
   "metadata": {},
   "outputs": [
    {
     "name": "stdin",
     "output_type": "stream",
     "text": [
      "Enter a No:  45\n"
     ]
    },
    {
     "name": "stdout",
     "output_type": "stream",
     "text": [
      "Not Prime\n"
     ]
    }
   ],
   "source": [
    "#5.3\n",
    "n = int(input(\"Enter a No: \"))\n",
    "f=0\n",
    "for i in range(2, n//2 + 1):\n",
    "\tif  n % i == 0:\n",
    "\t\tf=1\n",
    "\t\tbreak\n",
    "\n",
    "if f==0:\n",
    "\tprint (\"Prime\")\n",
    "else:\n",
    "\tprint (\"Not Prime\")"
   ]
  },
  {
   "cell_type": "code",
   "execution_count": 27,
   "id": "3a7f5cf6-133a-4cba-a730-e876225eea54",
   "metadata": {},
   "outputs": [
    {
     "name": "stdin",
     "output_type": "stream",
     "text": [
      "Enter First String :  User\n",
      "Enter Second String:  Friend\n"
     ]
    },
    {
     "name": "stdout",
     "output_type": "stream",
     "text": [
      "a > b\n"
     ]
    }
   ],
   "source": [
    "#5.4\n",
    "a = input(\"Enter First String : \")\n",
    "b = input(\"Enter Second String: \")\n",
    "\n",
    "if a == b:\n",
    "\tprint (\"a == b\")\n",
    "elif a >= b:\n",
    "\tprint (\"a > b\")\n",
    "else:\n",
    "\tprint (\"a < b\")"
   ]
  },
  {
   "cell_type": "code",
   "execution_count": 28,
   "id": "d48f56f2-ee78-4e26-8f31-f06a5a73062c",
   "metadata": {},
   "outputs": [
    {
     "name": "stdin",
     "output_type": "stream",
     "text": [
      "Enter the value of a:  12\n",
      "Enter the value of b:  7\n",
      "Enter the value of c:  19\n"
     ]
    },
    {
     "name": "stdout",
     "output_type": "stream",
     "text": [
      "Max is:  19\n"
     ]
    }
   ],
   "source": [
    "#Assignment 5.1\n",
    "a=int(input('Enter the value of a: '))\n",
    "b=int(input('Enter the value of b: '))\n",
    "c=int(input('Enter the value of c: '))\n",
    "print('Max is: ',max(a,b,c))"
   ]
  },
  {
   "cell_type": "code",
   "execution_count": 29,
   "id": "a7e15f43-a715-4362-a8ed-2cda8baa58ab",
   "metadata": {},
   "outputs": [
    {
     "name": "stdin",
     "output_type": "stream",
     "text": [
      "Enter the value of n:  1000\n"
     ]
    },
    {
     "name": "stdout",
     "output_type": "stream",
     "text": [
      "Sum is:  7560\n"
     ]
    }
   ],
   "source": [
    "#Assignment 5.2\n",
    "n=int(input('Enter the value of n: '))\n",
    "s=0\n",
    "for i in range(1,n+1):\n",
    "    if i%7==0 and i%9==0:\n",
    "        s=s+i\n",
    "print('Sum is: ',s)"
   ]
  },
  {
   "cell_type": "code",
   "execution_count": 30,
   "id": "4cedff78-3ba8-4e4b-8cf7-063bfb681115",
   "metadata": {},
   "outputs": [
    {
     "name": "stdin",
     "output_type": "stream",
     "text": [
      "Enter the value of n:  100\n"
     ]
    },
    {
     "name": "stdout",
     "output_type": "stream",
     "text": [
      "Sum is:  1061\n"
     ]
    }
   ],
   "source": [
    "#Assignment 5.3\n",
    "def isPrime(x):\n",
    "    f=0\n",
    "    for i in range(2, x//2 + 1):\n",
    "    \tif  x % i == 0:\n",
    "    \t\tf=1\n",
    "    \t\tbreak\n",
    "    \n",
    "    if f==0:\n",
    "    \treturn True\n",
    "    else:\n",
    "    \treturn False\n",
    "n=int(input('Enter the value of n: '))\n",
    "s=0\n",
    "for i in range(1,n+1):\n",
    "    if isPrime(i):\n",
    "        s=s+i\n",
    "print('Sum is: ',s)"
   ]
  },
  {
   "cell_type": "code",
   "execution_count": 31,
   "id": "1832e445-630c-4240-9ef8-491a08256f16",
   "metadata": {},
   "outputs": [
    {
     "name": "stdout",
     "output_type": "stream",
     "text": [
      "Add(10,20) --> 30\n",
      "Add(20,50) --> 70\n",
      "Add(80,200) --> 280\n"
     ]
    }
   ],
   "source": [
    "#6.1\n",
    "def Add(a,b):\n",
    "\tc=a+b\n",
    "\treturn c\n",
    "\n",
    "print (\"Add(10,20) -->\", Add(10,20))\n",
    "print (\"Add(20,50) -->\", Add(20,50))\n",
    "print (\"Add(80,200) -->\", Add(80,200))"
   ]
  },
  {
   "cell_type": "code",
   "execution_count": 32,
   "id": "988451cf-8b4f-48fb-92da-0b18a219c715",
   "metadata": {},
   "outputs": [
    {
     "name": "stdout",
     "output_type": "stream",
     "text": [
      "IsPrime(20)  -->  0\n",
      "IsPrime(23)  -->  1\n",
      "IsPrime(200) -->  0\n",
      "IsPrime(37)  -->  1\n"
     ]
    }
   ],
   "source": [
    "#6.2\n",
    "def IsPrime(n):\n",
    "\tfor i in range(2, n//2 + 1):\n",
    "\t\tif n%i==0:\n",
    "\t\t\treturn 0\n",
    "\treturn 1\n",
    "\n",
    "print (\"IsPrime(20)  --> \", IsPrime(20))\n",
    "print (\"IsPrime(23)  --> \", IsPrime(23))\n",
    "print (\"IsPrime(200) --> \", IsPrime(200))\n",
    "print (\"IsPrime(37)  --> \", IsPrime(37))"
   ]
  },
  {
   "cell_type": "code",
   "execution_count": 33,
   "id": "4a0af3b1-9cf2-4481-8412-c8cdaf1a671c",
   "metadata": {},
   "outputs": [
    {
     "name": "stdout",
     "output_type": "stream",
     "text": [
      "AddN(10)  -->  55\n",
      "AddN(20)  -->  210\n",
      "AddN(50)  -->  1275\n",
      "AddN(200) -->  20100\n"
     ]
    }
   ],
   "source": [
    "#6.3\n",
    "def AddN(n):\n",
    "\ts= sum(range(n+1))\n",
    "\treturn s\n",
    "\n",
    "print (\"AddN(10)  --> \", AddN(10))\n",
    "print (\"AddN(20)  --> \", AddN(20))\n",
    "print (\"AddN(50)  --> \", AddN(50))\n",
    "print (\"AddN(200) --> \", AddN(200))"
   ]
  },
  {
   "cell_type": "code",
   "execution_count": 34,
   "id": "753a5904-a8f3-4a0e-aed4-acef51a4a166",
   "metadata": {},
   "outputs": [
    {
     "name": "stdin",
     "output_type": "stream",
     "text": [
      "Enter the value of n:  30\n"
     ]
    },
    {
     "name": "stdout",
     "output_type": "stream",
     "text": [
      "Sum is:  225\n"
     ]
    }
   ],
   "source": [
    "#Assignment 6.1\n",
    "def isOdd(x):\n",
    "    return x%2==1\n",
    "n=int(input('Enter the value of n: '))\n",
    "s=0\n",
    "for i in range(1,n+1):\n",
    "    if isOdd(i):\n",
    "        s=s+i\n",
    "print('Sum is: ',s)"
   ]
  },
  {
   "cell_type": "code",
   "execution_count": 35,
   "id": "e326d27a-0223-438f-bf2c-0eb7fc19fc04",
   "metadata": {},
   "outputs": [
    {
     "name": "stdin",
     "output_type": "stream",
     "text": [
      "Enter the value of n:  100\n"
     ]
    },
    {
     "name": "stdout",
     "output_type": "stream",
     "text": [
      "Sum is:  1061\n"
     ]
    }
   ],
   "source": [
    "#Assignment 6.2\n",
    "def isPrime(x):\n",
    "    f=0\n",
    "    for i in range(2, x//2 + 1):\n",
    "    \tif  x % i == 0:\n",
    "    \t\tf=1\n",
    "    \t\tbreak\n",
    "    \n",
    "    if f==0:\n",
    "    \treturn True\n",
    "    else:\n",
    "    \treturn False\n",
    "n=int(input('Enter the value of n: '))\n",
    "s=0\n",
    "for i in range(1,n+1):\n",
    "    if isPrime(i):\n",
    "        s=s+i\n",
    "print('Sum is: ',s)"
   ]
  },
  {
   "cell_type": "code",
   "execution_count": 36,
   "id": "d955f290-1c72-4e31-b6bb-a54a4bd95745",
   "metadata": {},
   "outputs": [
    {
     "name": "stdout",
     "output_type": "stream",
     "text": [
      "exp(-200)    -->  1.3838965267367376e-87\n",
      "log(100,2)   -->  6.643856189774725\n",
      "log(100,10)  -->  2.0\n",
      "log10(100)   -->  2.0\n",
      "m.cos(30)    -->  0.15425144988758405\n",
      "m.sin(30)    -->  -0.9880316240928618\n",
      "m.tan(30)    -->  -6.405331196646276\n",
      "m.sqrt(324)  -->  18.0\n",
      "m.ceil(89.9) -->  90\n",
      "m.floor(89.9)-->  89\n"
     ]
    }
   ],
   "source": [
    "#7\n",
    "import math as m\n",
    "print (\"exp(-200)    --> \", m.exp(-200))  # Exponential function\n",
    "print (\"log(100,2)   --> \", m.log(100,2)) # Log\n",
    "print (\"log(100,10)  --> \", m.log(100,10))# Log\n",
    "print (\"log10(100)   --> \", m.log10(100)) # Log 10\n",
    "print (\"m.cos(30)    --> \", m.cos(30))    # cos\n",
    "print (\"m.sin(30)    --> \", m.sin(30))    # sin\n",
    "print (\"m.tan(30)    --> \", m.tan(30))    # tan\n",
    "print (\"m.sqrt(324)  --> \", m.sqrt(324))\n",
    "print (\"m.ceil(89.9) --> \", m.ceil(89.9))\n",
    "print (\"m.floor(89.9)--> \", m.floor(89.9))"
   ]
  },
  {
   "cell_type": "code",
   "execution_count": 37,
   "id": "dab5adc0-890b-4e04-bca4-f144e97bc630",
   "metadata": {},
   "outputs": [
    {
     "name": "stdout",
     "output_type": "stream",
     "text": [
      "var      -->  Hello World!\n",
      "var[0]   -->  H\n",
      "var[1:5] -->  ello\n",
      "var[:-5] -->  Hello W\n"
     ]
    }
   ],
   "source": [
    "#8.1\n",
    "var = 'Hello World!'\n",
    "print (\"var      --> \", var)\n",
    "print (\"var[0]   --> \", var[0])\n",
    "print (\"var[1:5] --> \", var[1:5])\n",
    "print (\"var[:-5] --> \", var[:-5])"
   ]
  },
  {
   "cell_type": "code",
   "execution_count": 38,
   "id": "e17edc41-08a6-408a-9ab0-902a8268d0f4",
   "metadata": {},
   "outputs": [
    {
     "name": "stdout",
     "output_type": "stream",
     "text": [
      "String -->  Hello World!\n",
      "Length --> :  12\n",
      "Upper  --> :  HELLO WORLD!\n",
      "Lower  --> :  hello world!\n"
     ]
    }
   ],
   "source": [
    "#8.2\n",
    "var = 'Hello World!'\n",
    "print (\"String --> \", var)\n",
    "print (\"Length --> : \", len(var))\n",
    "print (\"Upper  --> : \", var.upper())\n",
    "print (\"Lower  --> : \", var.lower())"
   ]
  },
  {
   "cell_type": "code",
   "execution_count": 39,
   "id": "1b002443-9a06-432b-9976-5f025aea657e",
   "metadata": {},
   "outputs": [
    {
     "name": "stdin",
     "output_type": "stream",
     "text": [
      "Enter your name:  Suresh\n",
      "Enter your age :  43\n",
      "Enter the book price:  39.90\n"
     ]
    },
    {
     "name": "stdout",
     "output_type": "stream",
     "text": [
      "\n",
      "Your name is SURESH, age is 43 and book price is 39.900000\n"
     ]
    }
   ],
   "source": [
    "#8.3\n",
    "name=input(\"Enter your name: \")\n",
    "age=int(input(\"Enter your age : \"))\n",
    "price=float(input(\"Enter the book price: \"))\n",
    "s=\"\\nYour name is %s, age is %d and book price is %f\" %(name.upper(),age,price)\n",
    "print (s)"
   ]
  },
  {
   "cell_type": "code",
   "execution_count": 40,
   "id": "99e609a4-b20e-48de-8a4e-f16631454011",
   "metadata": {},
   "outputs": [
    {
     "name": "stdout",
     "output_type": "stream",
     "text": [
      "This is a long string that is made up of\n",
      "several lines and non-printable characters such as\n",
      "TAB ( \t ) and they will show up that way when displayed.\n",
      "NEWLINEs within the string, whether explicitly given like\n",
      "this within the brackets [ \n",
      " ], or just a NEWLINE within\n",
      "the variable assignment will also show up.\n",
      "\n"
     ]
    }
   ],
   "source": [
    "#8.4\n",
    "para_str = \"\"\"This is a long string that is made up of\n",
    "several lines and non-printable characters such as\n",
    "TAB ( \\t ) and they will show up that way when displayed.\n",
    "NEWLINEs within the string, whether explicitly given like\n",
    "this within the brackets [ \\n ], or just a NEWLINE within\n",
    "the variable assignment will also show up.\n",
    "\"\"\"\n",
    "print (para_str)"
   ]
  },
  {
   "cell_type": "code",
   "execution_count": 41,
   "id": "c208e08c-8065-4bf7-baae-3c3c4ef98133",
   "metadata": {},
   "outputs": [
    {
     "name": "stdout",
     "output_type": "stream",
     "text": [
      "String    -->   Indian   Army    \n",
      "Length    -->  18\n",
      "var strip -->  Indian   Army\n",
      "Length of var after strip -->  13\n"
     ]
    }
   ],
   "source": [
    "#8.5\n",
    "var =\" Indian   Army    \"\n",
    "\n",
    "print(\"String    --> \", var)\n",
    "print(\"Length    --> \", len(var))\n",
    "print(\"var strip --> \", var.strip())\n",
    "print(\"Length of var after strip --> \", len(var.strip()))"
   ]
  },
  {
   "cell_type": "code",
   "execution_count": 42,
   "id": "25fd4a37-4dd0-44c9-a215-b091c757531b",
   "metadata": {},
   "outputs": [
    {
     "name": "stdout",
     "output_type": "stream",
     "text": [
      "String    -->   Indian,   Army    \n",
      "Length    -->  19\n",
      "var split -->  ['Indian,', 'Army']\n",
      "var split -->  ['', 'Indian,', '', '', 'Army', '', '', '', '']\n",
      "var split -->  [' Indian', '   Army    ']\n",
      "var split -->  ['Indian', '   Army']\n"
     ]
    }
   ],
   "source": [
    "#8.6\n",
    "var =\" Indian,   Army    \"\n",
    "\n",
    "print(\"String    --> \", var)\n",
    "print(\"Length    --> \", len(var))\n",
    "print(\"var split --> \", var.split())\n",
    "print(\"var split --> \", var.split(' '))\n",
    "print(\"var split --> \", var.split(','))\n",
    "\n",
    "# Strip + Split\n",
    "print(\"var split --> \", var.strip().split(','))"
   ]
  },
  {
   "cell_type": "code",
   "execution_count": 43,
   "id": "f26bf56f-500c-4d91-8bc7-e220b4748151",
   "metadata": {},
   "outputs": [
    {
     "name": "stdout",
     "output_type": "stream",
     "text": [
      "String       -->   Indian Army    \n",
      "Count of ' ' -->  6\n",
      "Count of 'a' -->  1\n",
      "Count of 'n' -->  1\n"
     ]
    }
   ],
   "source": [
    "#8.7\n",
    "var=\" Indian Army    \"\n",
    "print (\"String       --> \", var)\n",
    "print (\"Count of ' ' --> \", var.count(' '))\n",
    "print (\"Count of 'a' --> \", var.count('a'))\n",
    "print (\"Count of 'n' --> \", var.count('an'))"
   ]
  },
  {
   "cell_type": "code",
   "execution_count": 44,
   "id": "e9bdd6f4-7783-44f8-86f0-0f8ae2a554e4",
   "metadata": {},
   "outputs": [
    {
     "name": "stdout",
     "output_type": "stream",
     "text": [
      "String    -->  Indian Army\n",
      "var[::1]  -->  Indian Army\n",
      "var[::2]  -->  Ida ry\n",
      "var[::-1] -->  ymrA naidnI\n",
      "var[::-2] -->  yr adI\n",
      "var after reverse -->  ymrA naidnI\n"
     ]
    }
   ],
   "source": [
    "#8.8\n",
    "var=\"Indian Army\"\n",
    "print (\"String    --> \", var)\n",
    "print (\"var[::1]  --> \", var[::1])\n",
    "print (\"var[::2]  --> \", var[::2])\n",
    "print (\"var[::-1] --> \", var[::-1])\n",
    "print (\"var[::-2] --> \", var[::-2])\n",
    "\n",
    "var=var[::-1]\n",
    "print (\"var after reverse --> \", var)"
   ]
  },
  {
   "cell_type": "code",
   "execution_count": 45,
   "id": "a9f13fc1-3132-4da1-a204-3cd0bd322bc2",
   "metadata": {},
   "outputs": [
    {
     "name": "stdout",
     "output_type": "stream",
     "text": [
      "s1 -->  False\n",
      "s2 -->  True\n",
      "s3 -->  True\n",
      "s4 -->  False\n"
     ]
    }
   ],
   "source": [
    "#8.9\n",
    "s1=\"Indian Army\"\n",
    "s2=\"malayalam\"\n",
    "s3=\"madam\"\n",
    "s4=\"teacher\"\n",
    "print (\"s1 --> \", s1==s1[::-1])\n",
    "print (\"s2 --> \", s2==s2[::-1])\n",
    "print (\"s3 --> \", s3==s3[::-1])\n",
    "print (\"s4 --> \", s4==s4[::-1])"
   ]
  },
  {
   "cell_type": "code",
   "execution_count": 46,
   "id": "0de49728-46ab-477e-b101-99da857e0160",
   "metadata": {},
   "outputs": [
    {
     "name": "stdout",
     "output_type": "stream",
     "text": [
      "0.3587435445046657\n",
      "0.04476514177316804\n",
      "0.6171\n"
     ]
    }
   ],
   "source": [
    "#9.1\n",
    "import random as r\n",
    "print (r.random())\n",
    "print (r.random())\n",
    "print (round(r.random(),4))"
   ]
  },
  {
   "cell_type": "code",
   "execution_count": 5,
   "id": "9bd5d17c-b76a-4f19-87b8-cc28bacbeb9a",
   "metadata": {},
   "outputs": [
    {
     "name": "stdout",
     "output_type": "stream",
     "text": [
      "85\n",
      "61\n",
      "-2\n",
      "-2\n"
     ]
    }
   ],
   "source": [
    "#9.2\n",
    "import random as r\n",
    "print (r.randint(1, 100))\n",
    "print (r.randint(1, 100))\n",
    "print (r.randint(-10, 10))\n",
    "print (r.randint(-10, 10))"
   ]
  },
  {
   "cell_type": "code",
   "execution_count": 3,
   "id": "b226d189-7f23-4670-9d5e-6579e479bbe2",
   "metadata": {},
   "outputs": [
    {
     "name": "stdout",
     "output_type": "stream",
     "text": [
      "50.200059727176715\n",
      "58.4048752672789\n",
      "-4.0702564453578916\n",
      "3.5608868220925043\n",
      "-0.06\n"
     ]
    }
   ],
   "source": [
    "#9.3\n",
    "import random as r\n",
    "print (r.uniform(1, 100))\n",
    "print (r.uniform(1, 100))\n",
    "print (r.uniform (-10, 10))\n",
    "print (r.uniform (-10, 10))\n",
    "print (round(r.uniform (-10, 10),2))"
   ]
  },
  {
   "cell_type": "code",
   "execution_count": 2,
   "id": "6b598b18-e949-4686-9fd5-16e433f188cf",
   "metadata": {},
   "outputs": [
    {
     "name": "stdout",
     "output_type": "stream",
     "text": [
      "[8, 3, 10, 2]\n",
      "[10, 5]\n",
      "[46, 32]\n",
      "[-32, -12, -18, -56, -6]\n"
     ]
    }
   ],
   "source": [
    "#9.4\n",
    "import random as r\n",
    "\n",
    "A=[1, 2, 3, 4, 5, 6, 7, 8, 9, 10]\n",
    "\n",
    "print (r.sample(A, 4))\n",
    "print (r.sample(A, 2))\n",
    "print (r.sample(range(0,100), 2))\n",
    "print (r.sample(range(-100,100), 5))"
   ]
  },
  {
   "cell_type": "code",
   "execution_count": 50,
   "id": "f6583ef0-33a6-41aa-917e-0edcdd55d321",
   "metadata": {},
   "outputs": [
    {
     "name": "stdout",
     "output_type": "stream",
     "text": [
      "String        -->  abcdefghijklmnopqrstuvwxyzABCDEFGHIJKLMNOPQRSTUVWXYZ\n",
      "Selected Char -->  ['i', 'o', 'Q', 'b', 'f', 'Z']\n",
      "passwd1       -->  ioQbfZ\n",
      "passwd2       -->  i+o+Q+b+f+Z\n",
      "passwd3       -->  i*o*Q*b*f*Z\n"
     ]
    }
   ],
   "source": [
    "#9.5\n",
    "import string as s\n",
    "import random as r\n",
    "print (\"String        --> \",s.ascii_letters)\n",
    "\n",
    "passwd=r.sample(s.ascii_letters, 6)\n",
    "print (\"Selected Char --> \",passwd)\n",
    "\n",
    "passwd1=\"\".join(passwd)\n",
    "print (\"passwd1       --> \",passwd1)\n",
    "\n",
    "passwd2=\"+\".join(passwd)\n",
    "print (\"passwd2       --> \",passwd2)\n",
    "\n",
    "passwd3=\"*\".join(passwd)\n",
    "print (\"passwd3       --> \",passwd3)"
   ]
  },
  {
   "cell_type": "code",
   "execution_count": 51,
   "id": "c011dd18-3a56-4c0a-bdc5-a2d0d88d1817",
   "metadata": {},
   "outputs": [
    {
     "name": "stdout",
     "output_type": "stream",
     "text": [
      "Digits -->  0123456789\n",
      "Selected num1 -->  ['0', '7', '5', '1', '4']\n",
      "otp1          -->  07514\n",
      "Selected num2 -->  ['0', '8', '6', '3', '7']\n",
      "otp2          -->  08637\n",
      "Selected num2 -->  ['5', '6', '7', '9', '3']\n",
      "otp3          -->  56793\n"
     ]
    }
   ],
   "source": [
    "#9.6\n",
    "import string as s\n",
    "import random as r\n",
    "print (\"Digits --> \",s.digits)\n",
    "\n",
    "otp=r.sample(s.digits, 5)\n",
    "print (\"Selected num1 --> \",otp)\n",
    "otp=\"\".join(otp)\n",
    "print (\"otp1          --> \",otp)\n",
    "\n",
    "otp=r.sample(s.digits, 5)\n",
    "print (\"Selected num2 --> \",otp)\n",
    "otp=\"\".join(otp)\n",
    "print (\"otp2          --> \",otp)\n",
    "\n",
    "otp=r.sample(s.digits, 5)\n",
    "print (\"Selected num2 --> \",otp)\n",
    "otp=\"\".join(otp)\n",
    "print (\"otp3          --> \",otp)"
   ]
  },
  {
   "cell_type": "code",
   "execution_count": 52,
   "id": "8765b01c-b0d7-4d45-9baa-7a8b8b5323b8",
   "metadata": {},
   "outputs": [
    {
     "name": "stdout",
     "output_type": "stream",
     "text": [
      "String + Digits -->  abcdefghijklmnopqrstuvwxyzABCDEFGHIJKLMNOPQRSTUVWXYZ0123456789\n",
      "\n",
      "Selected Str1 -->  ['c', 'q', 'm', 'V', '9']\n",
      "mixPasswd1    -->  cqmV9\n",
      "\n",
      "Selected Str2 -->  ['U', '4', 'c', 'Y', 'N', '1']\n",
      "mixPasswd2    -->  U4cYN1\n",
      "\n",
      "Selected Str3 -->  ['2', 'g', 'k', 'K', 'O', 'o', '~', '5']\n",
      "mixPasswd3    -->  2gkKOo~5\n"
     ]
    }
   ],
   "source": [
    "#9.7\n",
    "import string as s\n",
    "import random as r\n",
    "print (\"String + Digits --> \",s.ascii_letters + s.digits)\n",
    "\n",
    "mixPasswd=r.sample(s.ascii_letters + s.digits, 5)\n",
    "print (\"\\nSelected Str1 --> \",mixPasswd)\n",
    "mixPasswd=\"\".join(mixPasswd)\n",
    "print (\"mixPasswd1    --> \",mixPasswd)\n",
    "\n",
    "mixPasswd=r.sample(s.ascii_letters + s.digits, 6)\n",
    "print (\"\\nSelected Str2 --> \",mixPasswd)\n",
    "mixPasswd=\"\".join(mixPasswd)\n",
    "print (\"mixPasswd2    --> \",mixPasswd)\n",
    "\n",
    "splChar=\"#@!~%^&*()_+=-[]{}|\"\n",
    "mixPasswd=r.sample(splChar + s.ascii_letters + s.digits, 8)\n",
    "print (\"\\nSelected Str3 --> \",mixPasswd)\n",
    "mixPasswd=\"\".join(mixPasswd)\n",
    "print (\"mixPasswd3    --> \",mixPasswd)"
   ]
  },
  {
   "cell_type": "code",
   "execution_count": 53,
   "id": "77c66423-76c9-4959-bef3-035526a71bd0",
   "metadata": {},
   "outputs": [
    {
     "name": "stdout",
     "output_type": "stream",
     "text": [
      "100/ -5  -->  -20.0\n",
      "100/ -4  -->  -25.0\n",
      "100/ -3  -->  -33.333333333333336\n",
      "100/ -2  -->  -50.0\n",
      "100/ -1  -->  -100.0\n"
     ]
    },
    {
     "ename": "ZeroDivisionError",
     "evalue": "division by zero",
     "output_type": "error",
     "traceback": [
      "\u001b[1;31m---------------------------------------------------------------------------\u001b[0m",
      "\u001b[1;31mZeroDivisionError\u001b[0m                         Traceback (most recent call last)",
      "Cell \u001b[1;32mIn[53], line 3\u001b[0m\n\u001b[0;32m      1\u001b[0m \u001b[38;5;66;03m#10.1\u001b[39;00m\n\u001b[0;32m      2\u001b[0m \u001b[38;5;28;01mfor\u001b[39;00m i \u001b[38;5;129;01min\u001b[39;00m \u001b[38;5;28mrange\u001b[39m(\u001b[38;5;241m-\u001b[39m\u001b[38;5;241m5\u001b[39m,\u001b[38;5;241m6\u001b[39m):\n\u001b[1;32m----> 3\u001b[0m \t\u001b[38;5;28mprint\u001b[39m (\u001b[38;5;124m\"\u001b[39m\u001b[38;5;124m100/\u001b[39m\u001b[38;5;124m\"\u001b[39m,i,\u001b[38;5;124m\"\u001b[39m\u001b[38;5;124m --> \u001b[39m\u001b[38;5;124m\"\u001b[39m, \u001b[38;5;241;43m100\u001b[39;49m\u001b[38;5;241;43m/\u001b[39;49m\u001b[43mi\u001b[49m)\n",
      "\u001b[1;31mZeroDivisionError\u001b[0m: division by zero"
     ]
    }
   ],
   "source": [
    "#10.1\n",
    "for i in range(-5,6):\n",
    "\tprint (\"100/\",i,\" --> \", 100/i)"
   ]
  },
  {
   "cell_type": "code",
   "execution_count": 54,
   "id": "c1a3bd01-a419-4bd8-b3fa-67ad516deac5",
   "metadata": {},
   "outputs": [
    {
     "name": "stdout",
     "output_type": "stream",
     "text": [
      "100/ -5  -->  -20.0\n",
      "100/ -4  -->  -25.0\n",
      "100/ -3  -->  -33.333333333333336\n",
      "100/ -2  -->  -50.0\n",
      "100/ -1  -->  -100.0\n",
      "error\n",
      "100/ 1  -->  100.0\n",
      "100/ 2  -->  50.0\n",
      "100/ 3  -->  33.333333333333336\n",
      "100/ 4  -->  25.0\n",
      "100/ 5  -->  20.0\n"
     ]
    }
   ],
   "source": [
    "#10.2\n",
    "for i in range(-5,6):\n",
    "\ttry:\n",
    "\t\tprint (\"100/\",i,\" --> \", 100/i)\n",
    "\texcept:\n",
    "\t\tprint (\"error\")"
   ]
  },
  {
   "cell_type": "code",
   "execution_count": 55,
   "id": "8a257e6e-bb30-41e4-8e6e-f9a60fd0d1f0",
   "metadata": {},
   "outputs": [
    {
     "name": "stdout",
     "output_type": "stream",
     "text": [
      "0  -->  1\n",
      "1  -->  2\n",
      "2  -->  3\n",
      "3  -->  4\n",
      "4  -->  5\n",
      "error\n",
      "error\n",
      "error\n"
     ]
    }
   ],
   "source": [
    "#10.3\n",
    "L=[1,2,3,4,5]\n",
    "\n",
    "for i in range(8):\n",
    "\ttry:\n",
    "\t\tprint (i,\" --> \",L[i])\n",
    "\texcept:\n",
    "\t\tprint (\"error\")"
   ]
  },
  {
   "cell_type": "code",
   "execution_count": 57,
   "id": "315d938c-e15e-42ea-ac83-2656b39d2442",
   "metadata": {},
   "outputs": [
    {
     "name": "stdin",
     "output_type": "stream",
     "text": [
      "Enter File Name:  test.txt\n"
     ]
    },
    {
     "name": "stdout",
     "output_type": "stream",
     "text": [
      "Error !! \"test.txt\" File Not Found\n",
      "Done\n"
     ]
    }
   ],
   "source": [
    "#10.5\n",
    "fileName=input(\"Enter File Name: \")\n",
    "try:\n",
    "\tfp=open(fileName)\t# Open the file in reading mode\n",
    "\tfp.close()\n",
    "except:\n",
    "\tprint (\"Error !! \\\"%s\\\" File Not Found\"%(fileName))\n",
    "\n",
    "print (\"Done\")"
   ]
  },
  {
   "cell_type": "code",
   "execution_count": 58,
   "id": "01d09690-35bb-4dd7-a797-defd2b2f9b45",
   "metadata": {},
   "outputs": [
    {
     "name": "stdout",
     "output_type": "stream",
     "text": [
      "Original List:  ['Pratham', 'Sharma', 3.14, 3]\n",
      "Number of elements in list:  4\n"
     ]
    }
   ],
   "source": [
    "#11.1\n",
    "L = [\"Pratham\",  'Sharma', 3.14,  3 ]\n",
    "print (\"Original List: \", L)\n",
    "print (\"Number of elements in list: \", len(L))"
   ]
  },
  {
   "cell_type": "code",
   "execution_count": 59,
   "id": "7ebe762b-9f0f-4c62-928c-bae99a93b1e7",
   "metadata": {},
   "outputs": [
    {
     "name": "stdout",
     "output_type": "stream",
     "text": [
      "Original List:  ['Pratham', 'Sharma', 3.14, 3]\n",
      "Pratham\n",
      "Sharma\n",
      "3.14\n",
      "3\n"
     ]
    }
   ],
   "source": [
    "#11.2\n",
    "L = [\"Pratham\",  'Sharma', 3.14,  3 ]\n",
    "print (\"Original List: \", L)\n",
    "i=0\n",
    "while i < len(L):\n",
    "\tprint (L[i])\n",
    "\ti+=1"
   ]
  },
  {
   "cell_type": "code",
   "execution_count": 60,
   "id": "4cf353af-ff62-4769-986d-07e30f5e6b69",
   "metadata": {},
   "outputs": [
    {
     "name": "stdout",
     "output_type": "stream",
     "text": [
      "Original List:  ['Pratham', 'Sharma', 3.14, 3]\n",
      "Pratham\n",
      "Sharma\n",
      "3.14\n",
      "3\n"
     ]
    }
   ],
   "source": [
    "#11.3\n",
    "L = [\"Pratham\",  'Sharma', 3.14,  3 ]\n",
    "print (\"Original List: \", L)\n",
    "for i in range(0, len(L)):\n",
    "\tprint (L[i])"
   ]
  },
  {
   "cell_type": "code",
   "execution_count": 61,
   "id": "e766017c-d2c1-4d02-b76d-2ddfcd6ec66b",
   "metadata": {},
   "outputs": [
    {
     "name": "stdout",
     "output_type": "stream",
     "text": [
      "Original List -->  ['Pratham', 'Sharma', 3.14, 3]\n",
      "Pratham\n",
      "Sharma\n",
      "3.14\n",
      "3\n"
     ]
    }
   ],
   "source": [
    "#11.4\n",
    "L = [\"Pratham\",  'Sharma', 3.14,  3 ]\n",
    "print (\"Original List --> \", L)\n",
    "for s in L:\n",
    "\tprint (s)"
   ]
  },
  {
   "cell_type": "code",
   "execution_count": 62,
   "id": "6c463f33-2f36-4892-aa77-9b09f34e5d5b",
   "metadata": {},
   "outputs": [
    {
     "name": "stdout",
     "output_type": "stream",
     "text": [
      "Original List       -->  ['Pratham', 'Sharma', 3.14, 3]\n",
      "List After Adding   -->  ['Pratham', 'Sharma', 3.14, 3, 'Rahul']\n",
      "List After Deleting -->  ['Pratham', 3.14, 3, 'Rahul']\n"
     ]
    }
   ],
   "source": [
    "#11.5\n",
    "L = [\"Pratham\",  'Sharma', 3.14,  3 ]\n",
    "print (\"Original List       --> \", L)\n",
    "\n",
    "L.append(\"Rahul\")\n",
    "print (\"List After Adding   --> \", L)\n",
    "\n",
    "del L[1]\n",
    "print (\"List After Deleting --> \", L)"
   ]
  },
  {
   "cell_type": "code",
   "execution_count": 63,
   "id": "0fc611fc-43d9-4a81-92ab-9618d1d12426",
   "metadata": {},
   "outputs": [
    {
     "name": "stdout",
     "output_type": "stream",
     "text": [
      "Original List -->  [3, 6, 9, 12, 5, 3, 2]\n",
      "Sum     -->  40\n",
      "Average -->  5.714285714285714\n",
      "Average -->  5\n",
      "L * 3   -->  [3, 6, 9, 12, 5, 3, 2, 3, 6, 9, 12, 5, 3, 2, 3, 6, 9, 12, 5, 3, 2]\n",
      "L + L   -->  [3, 6, 9, 12, 5, 3, 2, 3, 6, 9, 12, 5, 3, 2]\n"
     ]
    }
   ],
   "source": [
    "#11.6\n",
    "L=[3, 6, 9, 12, 5, 3, 2]\n",
    "print (\"Original List --> \", L)\n",
    "\n",
    "print (\"Sum     --> \", sum(L))\n",
    "print (\"Average --> \", sum(L)/len(L))\n",
    "print (\"Average --> \", sum(L)//len(L))\n",
    "\n",
    "print (\"L * 3   --> \", L * 3)     # Every element get tripled\n",
    "print (\"L + L   --> \", L + L)     # Every element get doubled"
   ]
  },
  {
   "cell_type": "code",
   "execution_count": 64,
   "id": "eb3002bc-e83b-43f8-a462-f2999ceb73f2",
   "metadata": {},
   "outputs": [
    {
     "name": "stdout",
     "output_type": "stream",
     "text": [
      "Original List -->  [3, 6, 9, 12, 5, 3, 2]\n",
      "max -->  12\n",
      "min -->  2\n",
      "\n",
      "Before Sort            -->  [3, 6, 9, 12, 5, 3, 2]\n",
      "After Sort (Asending)  -->  [2, 3, 3, 5, 6, 9, 12]\n",
      "After Sort (Desending) -->  [12, 9, 6, 5, 3, 3, 2]\n"
     ]
    }
   ],
   "source": [
    "#11.7\n",
    "L=[3, 6, 9, 12, 5, 3, 2]\n",
    "print (\"Original List --> \", L)\n",
    "\n",
    "print (\"max --> \", max(L))\n",
    "print (\"min --> \", min(L))\n",
    "\n",
    "print (\"\\nBefore Sort            --> \", L)\n",
    "L.sort()\n",
    "\n",
    "print (\"After Sort (Asending)  --> \", L)\n",
    "\n",
    "L.sort(reverse=True)\n",
    "print (\"After Sort (Desending) --> \", L)"
   ]
  },
  {
   "cell_type": "code",
   "execution_count": 65,
   "id": "2cc6015f-99b3-4eb5-83fa-d583b409e081",
   "metadata": {},
   "outputs": [
    {
     "name": "stdout",
     "output_type": "stream",
     "text": [
      "L1 -->  [3, 6, 9]\n",
      "L2 -->  [12, 5, 3, 2]\n",
      "L3 -->  [3, 6, 9, 12, 5, 3, 2]\n",
      "\n",
      "L3[2:]  -->  [9, 12, 5, 3, 2]\n",
      "L3[2:5] -->  [9, 12, 5]\n",
      "L3[:-1] -->  [3, 6, 9, 12, 5, 3]\n",
      "L3[::2] -->  [3, 9, 5, 2]\n"
     ]
    }
   ],
   "source": [
    "#11.8\n",
    "L1 = [3, 6, 9]\n",
    "L2 = [12, 5, 3, 2]\n",
    "L3 = L1 + L2\n",
    "print (\"L1 --> \",L1)\n",
    "print (\"L2 --> \",L2)\n",
    "print (\"L3 --> \",L3)\n",
    "\n",
    "print (\"\\nL3[2:]  --> \",L3[2:])\n",
    "print (\"L3[2:5] --> \",L3[2:5])\n",
    "print (\"L3[:-1] --> \",L3[:-1])\n",
    "print (\"L3[::2] --> \",L3[::2])"
   ]
  },
  {
   "cell_type": "code",
   "execution_count": 66,
   "id": "289990da-303c-4d57-ad29-45cbd2bc0efc",
   "metadata": {},
   "outputs": [
    {
     "name": "stdout",
     "output_type": "stream",
     "text": [
      "Original List -->  [12, 5, 3, 2, 7]\n",
      "After Multiply with constant -->  [60, 25, 15, 10, 35]\n"
     ]
    }
   ],
   "source": [
    "#11.9\n",
    "L = [12, 5, 3, 2, 7]\n",
    "print (\"Original List --> \", L)\n",
    "\n",
    "newL = [ i * 5 for i in L ]\n",
    "print (\"After Multiply with constant --> \", newL)"
   ]
  },
  {
   "cell_type": "code",
   "execution_count": 67,
   "id": "e74a73d4-58fe-4f5b-93d8-a704851d19d0",
   "metadata": {},
   "outputs": [
    {
     "name": "stdout",
     "output_type": "stream",
     "text": [
      "Original List -->  True\n",
      "Original List -->  False\n",
      "Original List -->  True\n",
      "Present\n",
      "Present\n"
     ]
    }
   ],
   "source": [
    "#11.10\n",
    "L=[3, 6, 9, 12, 5, 3, 2]\n",
    "print (\"Original List --> \", 6 in L)\n",
    "print (\"Original List --> \", 10 in L)\n",
    "print (\"Original List --> \", 12 in L)\n",
    "\n",
    "if (6 in L) == True:\n",
    "\tprint (\"Present\")\n",
    "else:\n",
    "\tprint (\"Not Present\")\n",
    "\n",
    "if 10 in L == False:\n",
    "\tprint (\"Not Present\")\n",
    "else:\n",
    "\tprint (\"Present\")"
   ]
  },
  {
   "cell_type": "code",
   "execution_count": 68,
   "id": "9cd5d7a5-583d-4652-a44d-fe793b29280a",
   "metadata": {},
   "outputs": [
    {
     "name": "stdout",
     "output_type": "stream",
     "text": [
      "Dictionary      -->  {1: 8.9, 2: 5.6, 4: 6.7, 7: 9.1, 8: 5.3}\n",
      "Num of elements -->  5\n",
      "CGPA of 1       -->  8.9\n",
      "CGPA of 4       -->  6.7\n",
      "CGPA of 7       -->  9.1\n"
     ]
    },
    {
     "ename": "KeyError",
     "evalue": "3",
     "output_type": "error",
     "traceback": [
      "\u001b[1;31m---------------------------------------------------------------------------\u001b[0m",
      "\u001b[1;31mKeyError\u001b[0m                                  Traceback (most recent call last)",
      "Cell \u001b[1;32mIn[68], line 9\u001b[0m\n\u001b[0;32m      7\u001b[0m \u001b[38;5;28mprint\u001b[39m (\u001b[38;5;124m\"\u001b[39m\u001b[38;5;124mCGPA of 4       --> \u001b[39m\u001b[38;5;124m\"\u001b[39m, CGPA[\u001b[38;5;241m4\u001b[39m])\n\u001b[0;32m      8\u001b[0m \u001b[38;5;28mprint\u001b[39m (\u001b[38;5;124m\"\u001b[39m\u001b[38;5;124mCGPA of 7       --> \u001b[39m\u001b[38;5;124m\"\u001b[39m, CGPA[\u001b[38;5;241m7\u001b[39m])\n\u001b[1;32m----> 9\u001b[0m \u001b[38;5;28mprint\u001b[39m (\u001b[38;5;124m\"\u001b[39m\u001b[38;5;124mCGPA of 3       --> \u001b[39m\u001b[38;5;124m\"\u001b[39m, \u001b[43mCGPA\u001b[49m\u001b[43m[\u001b[49m\u001b[38;5;241;43m3\u001b[39;49m\u001b[43m]\u001b[49m)\n",
      "\u001b[1;31mKeyError\u001b[0m: 3"
     ]
    }
   ],
   "source": [
    "#12.1\n",
    "CGPA={1:8.9, 2:5.6, 4:6.7, 7:9.1, 8:5.3}\n",
    "print (\"Dictionary      --> \", CGPA)\n",
    "print (\"Num of elements --> \", len(CGPA))\n",
    "\n",
    "print (\"CGPA of 1       --> \", CGPA[1])\n",
    "print (\"CGPA of 4       --> \", CGPA[4])\n",
    "print (\"CGPA of 7       --> \", CGPA[7])\n",
    "print (\"CGPA of 3       --> \", CGPA[3])"
   ]
  },
  {
   "cell_type": "code",
   "execution_count": 69,
   "id": "879d819b-5fbe-4ff2-bf12-c2877ed74670",
   "metadata": {},
   "outputs": [
    {
     "name": "stdout",
     "output_type": "stream",
     "text": [
      "CGPA of  1  -->  8.9\n",
      "CGPA of  2  -->  5.6\n",
      "CGPA of  4  -->  6.7\n",
      "CGPA of  7  -->  9.1\n",
      "CGPA of  8  -->  5.3\n"
     ]
    }
   ],
   "source": [
    "#12.2\n",
    "CGPA={1:8.9, 2:5.6, 4:6.7, 7:9.1, 8:5.3}\n",
    "for k in CGPA:\n",
    "\tprint (\"CGPA of \", k, \" --> \", CGPA[k])"
   ]
  },
  {
   "cell_type": "code",
   "execution_count": 70,
   "id": "047c1920-8848-4523-a45e-c09135e9839b",
   "metadata": {},
   "outputs": [
    {
     "name": "stdout",
     "output_type": "stream",
     "text": [
      "Dictionary -->  {1: 8.9, 2: 5.6, 4: 6.7, 7: 9.1, 8: 5.3}\n",
      "Keys       -->  [1, 2, 4, 7, 8]\n",
      "Values     -->  [8.9, 5.6, 6.7, 9.1, 5.3]\n"
     ]
    }
   ],
   "source": [
    "#12.3\n",
    "CGPA={1:8.9, 2:5.6, 4:6.7, 7:9.1, 8:5.3}\n",
    "print (\"Dictionary --> \", CGPA)\n",
    "print (\"Keys       --> \", list(CGPA.keys()))\n",
    "print (\"Values     --> \", list(CGPA.values()))"
   ]
  },
  {
   "cell_type": "code",
   "execution_count": 72,
   "id": "be5a8ea4-1694-4b89-9e8e-03ea753412be",
   "metadata": {},
   "outputs": [
    {
     "name": "stdout",
     "output_type": "stream",
     "text": [
      "Original Dictionary -->  {1: 8.9, 2: 5.6, 4: 6.7, 7: 9.1, 8: 5.3}\n",
      "Is Key 2 Present    -->  True\n",
      "Is Key 9 Present    -->  False\n"
     ]
    }
   ],
   "source": [
    "#12.5\n",
    "CGPA={1:8.9, 2:5.6, 4:6.7, 7:9.1, 8:5.3}\n",
    "print (\"Original Dictionary --> \", CGPA)\n",
    "print (\"Is Key 2 Present    --> \", 2 in CGPA)\n",
    "print (\"Is Key 9 Present    --> \", 9 in CGPA)"
   ]
  },
  {
   "cell_type": "code",
   "execution_count": 73,
   "id": "04376ce9-6e19-4355-becc-882087f4d5fd",
   "metadata": {},
   "outputs": [
    {
     "name": "stdout",
     "output_type": "stream",
     "text": [
      "Original Dictionary -->  {'Prashant': 'Delhi', 'Govind': 'Gwalior', 'Anil': 'Morena', 'Pankaj': 'Agra'}\n",
      "Home Town of Prashant is -->  Delhi\n",
      "Home Town of Govind is   -->  Gwalior\n",
      "Home Town of Anil is     -->  Morena\n",
      "Home Town of Pankaj is   -->  Agra\n"
     ]
    }
   ],
   "source": [
    "#12.6\n",
    "HomeTown={\"Prashant\":\"Delhi\", \"Govind\":\"Gwalior\", \"Anil\":\"Morena\", \"Pankaj\":\"Agra\"}\n",
    "print (\"Original Dictionary --> \", HomeTown)\n",
    "print (\"Home Town of Prashant is --> \", HomeTown[\"Prashant\"])\n",
    "print (\"Home Town of Govind is   --> \", HomeTown[\"Govind\"])\n",
    "print (\"Home Town of Anil is     --> \", HomeTown[\"Anil\"])\n",
    "print (\"Home Town of Pankaj is   --> \", HomeTown[\"Pankaj\"])"
   ]
  },
  {
   "cell_type": "code",
   "execution_count": 74,
   "id": "43ffc485-a445-49f7-b58d-a6cc5d59f481",
   "metadata": {},
   "outputs": [
    {
     "name": "stdout",
     "output_type": "stream",
     "text": [
      "Original Dictionary -->  {'Prashant': 'Delhi', 'Govind': 'Gwalior', 'Anil': 'Morena', 'Pankaj': 'Agra'}\n",
      "Home Town of  Prashant  is  -->  Delhi\n",
      "Home Town of  Govind  is  -->  Gwalior\n",
      "Home Town of  Anil  is  -->  Morena\n",
      "Home Town of  Pankaj  is  -->  Agra\n"
     ]
    }
   ],
   "source": [
    "#12.7\n",
    "HomeTown={\"Prashant\":\"Delhi\", \"Govind\":\"Gwalior\", \"Anil\":\"Morena\", \"Pankaj\":\"Agra\"}\n",
    "print (\"Original Dictionary --> \", HomeTown)\n",
    "\n",
    "for d in HomeTown:\n",
    "\tprint (\"Home Town of \", d, \" is  --> \", HomeTown[d])"
   ]
  },
  {
   "cell_type": "code",
   "execution_count": 77,
   "id": "3baf4ec4-8644-4f2b-ae8d-26ec4985e40f",
   "metadata": {},
   "outputs": [
    {
     "name": "stdout",
     "output_type": "stream",
     "text": [
      "T               --> ('Pratham', 'Sharma', 3.14, 3)\n",
      "Num of elements --> 4\n",
      "Type of Object  --> <class 'tuple'>\n"
     ]
    }
   ],
   "source": [
    "#13.1.1\n",
    "T = (\"Pratham\", 'Sharma', 3.14, 3)\n",
    "\n",
    "print (\"T               -->\", T)\n",
    "print (\"Num of elements -->\", len(T))\n",
    "print (\"Type of Object  -->\", type(T))"
   ]
  },
  {
   "cell_type": "code",
   "execution_count": 78,
   "id": "e425c5d1-4d28-4ff0-99da-1a093bd09d76",
   "metadata": {},
   "outputs": [
    {
     "name": "stdout",
     "output_type": "stream",
     "text": [
      "T               --> ('Pratham', 'Sharma', 3.14, 3)\n",
      "Num of elements --> 4\n",
      "Type of Object  --> <class 'tuple'>\n"
     ]
    }
   ],
   "source": [
    "#13.1.2\n",
    "T = tuple([\"Pratham\", 'Sharma', 3.14, 3])   # Convert list to tuple\n",
    "#T = tuple((\"Pratham\", 'Sharma', 3.14, 3))  # Also Works\n",
    "\n",
    "print (\"T               -->\", T)\n",
    "print (\"Num of elements -->\", len(T))\n",
    "print (\"Type of Object  -->\", type(T))"
   ]
  },
  {
   "cell_type": "code",
   "execution_count": 79,
   "id": "66cefcfc-f7f9-401b-a3ac-490368f544da",
   "metadata": {},
   "outputs": [
    {
     "name": "stdout",
     "output_type": "stream",
     "text": [
      "T --> ('Pratham', 'Sharma', 3.14, 3)\n",
      "Pratham\n",
      "Sharma\n",
      "3.14\n",
      "3\n"
     ]
    }
   ],
   "source": [
    "#13.2\n",
    "T = (\"Pratham\", 'Sharma', 3.14, 3)\n",
    "print (\"T -->\", T)\n",
    "\n",
    "i = 0\n",
    "while i < len(T):\n",
    "    print (T[i])\n",
    "    i += 1"
   ]
  },
  {
   "cell_type": "code",
   "execution_count": 80,
   "id": "32221ec1-1a77-41b0-9bf8-650dafda6f47",
   "metadata": {},
   "outputs": [
    {
     "name": "stdout",
     "output_type": "stream",
     "text": [
      "T --> ('Pratham', 'Sharma', 3.14, 3)\n",
      "Pratham\n",
      "Sharma\n",
      "3.14\n",
      "3\n"
     ]
    }
   ],
   "source": [
    "#13.3\n",
    "T = (\"Pratham\", 'Sharma', 3.14, 3)\n",
    "print (\"T -->\", T)\n",
    "\n",
    "for i in range(0, len(T)):\n",
    "    print (T[i])"
   ]
  },
  {
   "cell_type": "code",
   "execution_count": 81,
   "id": "f83d3e42-2a9c-4aab-83c0-7c93994b09ef",
   "metadata": {},
   "outputs": [
    {
     "name": "stdout",
     "output_type": "stream",
     "text": [
      "T --> ('Pratham', 'Sharma', 3.14, 3)\n",
      "Pratham\n",
      "Sharma\n",
      "3.14\n",
      "3\n"
     ]
    }
   ],
   "source": [
    "#13.4\n",
    "T = (\"Pratham\", 'Sharma', 3.14, 3)\n",
    "print (\"T -->\", T)\n",
    "\n",
    "for s in T:\n",
    "    print (s)"
   ]
  },
  {
   "cell_type": "code",
   "execution_count": 83,
   "id": "8cb85f1a-5721-451b-992c-ecb3ec30dba2",
   "metadata": {},
   "outputs": [
    {
     "name": "stdout",
     "output_type": "stream",
     "text": [
      "T     --> (3, 6, 9, 12, 5, 3, 2)\n",
      "T[1]  --> 6\n",
      "T[2]  --> 9\n",
      "T[-1] --> 2\n",
      "T[-2] --> 3\n"
     ]
    }
   ],
   "source": [
    "#13.5.1\n",
    "T = (3, 6, 9, 12, 5, 3, 2)\n",
    "print (\"T     -->\", T)\n",
    "\n",
    "print (\"T[1]  -->\", T[1])\n",
    "print (\"T[2]  -->\", T[2])\n",
    "print (\"T[-1] -->\", T[-1])\n",
    "print (\"T[-2] -->\", T[-2])"
   ]
  },
  {
   "cell_type": "code",
   "execution_count": 84,
   "id": "8a06d130-94bf-407a-8c08-3e28c3882d88",
   "metadata": {},
   "outputs": [
    {
     "name": "stdout",
     "output_type": "stream",
     "text": [
      "T        --> (3, 6, 9, 12, 5, 3, 2)\n",
      "T[1:3]   --> (6, 9)\n",
      "T[2:]    --> (9, 12, 5, 3, 2)\n",
      "T[2:5]   --> (9, 12, 5)\n",
      "T[:2]    --> (3, 6)\n",
      "T[:-1]   --> (3, 6, 9, 12, 5, 3)\n",
      "T[-4:-1] --> (12, 5, 3)\n"
     ]
    }
   ],
   "source": [
    "#13.5.2\n",
    "T = (3, 6, 9, 12, 5, 3, 2)\n",
    "print (\"T        -->\", T)\n",
    "\n",
    "print (\"T[1:3]   -->\", T[1:3])\n",
    "print (\"T[2:]    -->\", T[2:])\n",
    "print (\"T[2:5]   -->\", T[2:5])\n",
    "print (\"T[:2]    -->\", T[:2])\n",
    "print (\"T[:-1]   -->\", T[:-1])\n",
    "print (\"T[-4:-1] -->\", T[-4:-1])"
   ]
  },
  {
   "cell_type": "code",
   "execution_count": 85,
   "id": "c122804a-9f5e-4eb7-8585-d8dfcd3a15c3",
   "metadata": {},
   "outputs": [
    {
     "name": "stdout",
     "output_type": "stream",
     "text": [
      "T       --> (3, 6, 9, 12, 5, 3, 2)\n",
      "Sum     --> 40\n",
      "Average --> 5.714285714285714\n",
      "Average --> 5\n"
     ]
    }
   ],
   "source": [
    "#13.6\n",
    "T = (3, 6, 9, 12, 5, 3, 2)\n",
    "print (\"T       -->\", T)\n",
    "print (\"Sum     -->\", sum(T))\n",
    "print (\"Average -->\", sum(T)/len(T))\n",
    "print (\"Average -->\", sum(T)//len(T))"
   ]
  },
  {
   "cell_type": "code",
   "execution_count": 86,
   "id": "14e3f04a-4057-4caa-995f-0873d2573c5b",
   "metadata": {},
   "outputs": [
    {
     "name": "stdout",
     "output_type": "stream",
     "text": [
      "T   --> (3, 6, 9, 12, 5, 3, 2)\n",
      "Max --> 12\n",
      "Min --> 2\n"
     ]
    }
   ],
   "source": [
    "#13.7.1\n",
    "T = (3, 6, 9, 12, 5, 3, 2)                # Integer Tuple\n",
    "print (\"T   -->\", T)\n",
    "print (\"Max -->\", max(T))\n",
    "print (\"Min -->\", min(T))"
   ]
  },
  {
   "cell_type": "code",
   "execution_count": 87,
   "id": "3a6f24b7-1b3c-4399-ac11-502c7446d22c",
   "metadata": {},
   "outputs": [
    {
     "name": "stdout",
     "output_type": "stream",
     "text": [
      "T   --> ('Ram', 'Shyam', 'Human', 'Ant')\n",
      "Max --> Shyam\n",
      "Min --> Ant\n"
     ]
    }
   ],
   "source": [
    "#13.7.2\n",
    "T = (\"Ram\", \"Shyam\", \"Human\", \"Ant\")      # String Tuple\n",
    "print (\"T   -->\", T)\n",
    "print (\"Max -->\", max(T))\n",
    "print (\"Min -->\", min(T))"
   ]
  },
  {
   "cell_type": "code",
   "execution_count": 88,
   "id": "70da7dec-d030-4c47-a3ac-ad74441aa4e7",
   "metadata": {},
   "outputs": [
    {
     "name": "stdout",
     "output_type": "stream",
     "text": [
      "T1 --> (3, 6, 9)\n",
      "T2 --> (12, 5, 3, 2)\n",
      "T3 --> (3, 6, 9, 12, 5, 3, 2)\n",
      "T4 --> (3, 6, 9, 12, 5, 3, 2, 3, 6, 9, 12, 5, 3, 2)\n"
     ]
    }
   ],
   "source": [
    "#13.8\n",
    "T1 = (3, 6, 9)\n",
    "T2 = (12, 5, 3, 2)\n",
    "\n",
    "print (\"T1 -->\", T1)\n",
    "print (\"T2 -->\", T2)\n",
    "\n",
    "T3 = T1 + T2\n",
    "print (\"T3 -->\", T3)\n",
    "\n",
    "T4 = T1 + T2 + T1 + T2\n",
    "print (\"T4 -->\", T4)"
   ]
  },
  {
   "cell_type": "code",
   "execution_count": 89,
   "id": "aab2ded1-9223-4826-ab1d-941734bd4408",
   "metadata": {},
   "outputs": [
    {
     "name": "stdout",
     "output_type": "stream",
     "text": [
      "T1 --> (3, 6, 9)\n",
      "T2 --> (12, 5, 3, 2)\n",
      "T3 --> (6, 5, 3)\n",
      "T4 --> (3, 12)\n"
     ]
    }
   ],
   "source": [
    "#13.9\n",
    "T1 = (3, 6, 9)\n",
    "T2 = (12, 5, 3, 2)\n",
    "\n",
    "print (\"T1 -->\", T1)\n",
    "print (\"T2 -->\", T2)\n",
    "\n",
    "T3 = T1[1:2] + T2[1:3]\n",
    "print (\"T3 -->\", T3)\n",
    "\n",
    "T4 = T1[:-2] + T2[:-3]\n",
    "print (\"T4 -->\", T4)"
   ]
  },
  {
   "cell_type": "code",
   "execution_count": 90,
   "id": "bc9b0ffc-381a-4082-a638-8e4d6c32f576",
   "metadata": {},
   "outputs": [
    {
     "name": "stdout",
     "output_type": "stream",
     "text": [
      "T       --> (3, 6, 9, 12, 5, 3, 2)\n",
      "6  in T --> True\n",
      "10 in T --> False\n",
      "12 in T --> True\n"
     ]
    }
   ],
   "source": [
    "#13.10\n",
    "T = (3, 6, 9, 12, 5, 3, 2)\n",
    "print (\"T       -->\", T)\n",
    "\n",
    "print (\"6  in T -->\", 6 in T)\n",
    "print (\"10 in T -->\", 10 in T)\n",
    "print (\"12 in T -->\", 12 in T)"
   ]
  },
  {
   "cell_type": "code",
   "execution_count": 91,
   "id": "aa0248d4-b655-470d-9231-64dcff418bc5",
   "metadata": {},
   "outputs": [
    {
     "name": "stdout",
     "output_type": "stream",
     "text": [
      "T --> ('Pratham', 'Sharma', 3.14, 3)\n"
     ]
    },
    {
     "ename": "TypeError",
     "evalue": "'tuple' object does not support item assignment",
     "output_type": "error",
     "traceback": [
      "\u001b[1;31m---------------------------------------------------------------------------\u001b[0m",
      "\u001b[1;31mTypeError\u001b[0m                                 Traceback (most recent call last)",
      "Cell \u001b[1;32mIn[91], line 5\u001b[0m\n\u001b[0;32m      2\u001b[0m T \u001b[38;5;241m=\u001b[39m (\u001b[38;5;124m\"\u001b[39m\u001b[38;5;124mPratham\u001b[39m\u001b[38;5;124m\"\u001b[39m, \u001b[38;5;124m'\u001b[39m\u001b[38;5;124mSharma\u001b[39m\u001b[38;5;124m'\u001b[39m, \u001b[38;5;241m3.14\u001b[39m, \u001b[38;5;241m3\u001b[39m)\n\u001b[0;32m      3\u001b[0m \u001b[38;5;28mprint\u001b[39m (\u001b[38;5;124m\"\u001b[39m\u001b[38;5;124mT -->\u001b[39m\u001b[38;5;124m\"\u001b[39m, T)\n\u001b[1;32m----> 5\u001b[0m \u001b[43mT\u001b[49m\u001b[43m[\u001b[49m\u001b[38;5;241;43m2\u001b[39;49m\u001b[43m]\u001b[49m \u001b[38;5;241m=\u001b[39m \u001b[38;5;241m900\u001b[39m               \u001b[38;5;66;03m# Error; 'tuple' object does not support item assignment\u001b[39;00m\n\u001b[0;32m      6\u001b[0m \u001b[38;5;28mprint\u001b[39m (\u001b[38;5;124m\"\u001b[39m\u001b[38;5;124mT -->\u001b[39m\u001b[38;5;124m\"\u001b[39m, T)\n\u001b[0;32m      8\u001b[0m \u001b[38;5;66;03m#Tuples are unchangeable. We cannot add items to it.\u001b[39;00m\n",
      "\u001b[1;31mTypeError\u001b[0m: 'tuple' object does not support item assignment"
     ]
    }
   ],
   "source": [
    "#13.11\n",
    "T = (\"Pratham\", 'Sharma', 3.14, 3)\n",
    "print (\"T -->\", T)\n",
    "\n",
    "T[2] = 900               # Error; 'tuple' object does not support item assignment\n",
    "print (\"T -->\", T)\n",
    "\n",
    "#Tuples are unchangeable. We cannot add items to it."
   ]
  },
  {
   "cell_type": "code",
   "execution_count": 92,
   "id": "6d071483-f276-46d3-aa72-8fcb84c84f03",
   "metadata": {},
   "outputs": [
    {
     "name": "stdout",
     "output_type": "stream",
     "text": [
      "T         --> ('Pratham', 'Sharma', 3.14, 3)\n",
      "After Add --> ('Pratham', 'Sharma', 3.14, 3, 9.8)\n"
     ]
    }
   ],
   "source": [
    "#13.12\n",
    "T = (\"Pratham\", 'Sharma', 3.14, 3)\n",
    "print (\"T         -->\", T)\n",
    "\n",
    "T1 = list(T)\n",
    "T1.append(9.8)\n",
    "T = tuple(T1)\n",
    "\n",
    "print (\"After Add -->\", T)"
   ]
  },
  {
   "cell_type": "code",
   "execution_count": 93,
   "id": "8d59c8a5-49f2-4993-be94-0834404aa934",
   "metadata": {},
   "outputs": [
    {
     "name": "stdout",
     "output_type": "stream",
     "text": [
      "T            --> ('Pratham', 'Sharma', 3.14, 3)\n",
      "After Insert --> ('Pratham', 'Sharma', 'Rahul', 3.14, 3)\n"
     ]
    }
   ],
   "source": [
    "#13.13\n",
    "T = (\"Pratham\", 'Sharma', 3.14, 3)\n",
    "print (\"T            -->\", T)\n",
    "\n",
    "T1 = list(T)\n",
    "T1.insert(2, \"Rahul\")\n",
    "T = tuple(T1)\n",
    "\n",
    "print (\"After Insert -->\", T)"
   ]
  },
  {
   "cell_type": "code",
   "execution_count": 94,
   "id": "81ece4bd-a2fa-4981-b9d4-aed8d95c76cd",
   "metadata": {},
   "outputs": [
    {
     "name": "stdout",
     "output_type": "stream",
     "text": [
      "T            --> ('Pratham', 'Sharma', 3.14, 3)\n"
     ]
    },
    {
     "ename": "TypeError",
     "evalue": "'tuple' object doesn't support item deletion",
     "output_type": "error",
     "traceback": [
      "\u001b[1;31m---------------------------------------------------------------------------\u001b[0m",
      "\u001b[1;31mTypeError\u001b[0m                                 Traceback (most recent call last)",
      "Cell \u001b[1;32mIn[94], line 5\u001b[0m\n\u001b[0;32m      2\u001b[0m T \u001b[38;5;241m=\u001b[39m (\u001b[38;5;124m\"\u001b[39m\u001b[38;5;124mPratham\u001b[39m\u001b[38;5;124m\"\u001b[39m, \u001b[38;5;124m'\u001b[39m\u001b[38;5;124mSharma\u001b[39m\u001b[38;5;124m'\u001b[39m, \u001b[38;5;241m3.14\u001b[39m, \u001b[38;5;241m3\u001b[39m)\n\u001b[0;32m      3\u001b[0m \u001b[38;5;28mprint\u001b[39m (\u001b[38;5;124m\"\u001b[39m\u001b[38;5;124mT            -->\u001b[39m\u001b[38;5;124m\"\u001b[39m, T)\n\u001b[1;32m----> 5\u001b[0m \u001b[38;5;28;01mdel\u001b[39;00m \u001b[43mT\u001b[49m\u001b[43m[\u001b[49m\u001b[38;5;241;43m1\u001b[39;49m\u001b[43m]\u001b[49m\n\u001b[0;32m      7\u001b[0m \u001b[38;5;28mprint\u001b[39m (\u001b[38;5;124m\"\u001b[39m\u001b[38;5;124mAfter Delete -->\u001b[39m\u001b[38;5;124m\"\u001b[39m, T)\n",
      "\u001b[1;31mTypeError\u001b[0m: 'tuple' object doesn't support item deletion"
     ]
    }
   ],
   "source": [
    "#13.14\n",
    "T = (\"Pratham\", 'Sharma', 3.14, 3)\n",
    "print (\"T            -->\", T)\n",
    "\n",
    "del T[1]\n",
    "\n",
    "print (\"After Delete -->\", T)"
   ]
  },
  {
   "cell_type": "code",
   "execution_count": 95,
   "id": "7d5d8ee8-3e59-4a14-9a35-48fe9a394bf6",
   "metadata": {},
   "outputs": [
    {
     "name": "stdout",
     "output_type": "stream",
     "text": [
      "T            --> ('Pratham', 'Sharma', 3.14, 3)\n",
      "After Delete --> ('Pratham', 3.14, 3)\n"
     ]
    }
   ],
   "source": [
    "#13.15\n",
    "T = (\"Pratham\", 'Sharma', 3.14, 3)\n",
    "print (\"T            -->\", T)\n",
    "\n",
    "T1 = list(T)\n",
    "del T1[1]\n",
    "T = tuple(T1)\n",
    "\n",
    "print (\"After Delete -->\", T)"
   ]
  },
  {
   "cell_type": "code",
   "execution_count": 96,
   "id": "9852a697-24b8-4686-9298-ea8e430befec",
   "metadata": {},
   "outputs": [
    {
     "name": "stdout",
     "output_type": "stream",
     "text": [
      "T            --> ('Pratham', 'Sharma', 3.14, 3)\n",
      "After Delete --> ('Pratham', 3.14, 3)\n"
     ]
    }
   ],
   "source": [
    "#14.1\n",
    "T = (\"Pratham\", 'Sharma', 3.14, 3)\n",
    "print (\"T            -->\", T)\n",
    "\n",
    "T1 = list(T)\n",
    "del T1[1]\n",
    "T = tuple(T1)\n",
    "\n",
    "print (\"After Delete -->\", T)"
   ]
  },
  {
   "cell_type": "code",
   "execution_count": 97,
   "id": "3adf8de7-bd5c-4e8b-9cf6-0a984c06cda9",
   "metadata": {},
   "outputs": [
    {
     "name": "stdout",
     "output_type": "stream",
     "text": [
      "Original set a      -->  {'F', 'E', 'B', 'A'}\n",
      "Original set b      -->  {'C', 'E', 'D', 'A'}\n",
      "Union of a and b    -->  {'D', 'C', 'E', 'A', 'B', 'F'}\n",
      "Intersection of a,b -->  {'E', 'A'}\n",
      "Difference a - b    -->  {'B', 'F'}\n",
      "Difference a - b    -->  {'B', 'F'}\n",
      "Difference b - a    -->  {'C', 'D'}\n",
      "Difference b - a    -->  {'C', 'D'}\n",
      "Symetric Diff a - b -->  {'D', 'C', 'B', 'F'}\n",
      "Symetric Diff b - a -->  {'D', 'C', 'B', 'F'}\n"
     ]
    }
   ],
   "source": [
    "#14.2\n",
    "a = set(['A', 'B', 'E', 'F' ])\n",
    "b = set([\"A\", \"C\", \"D\", \"E\"])\n",
    "print (\"Original set a      --> \", a)\n",
    "print (\"Original set b      --> \", b)\n",
    "print (\"Union of a and b    --> \", a.union(b))\n",
    "print (\"Intersection of a,b --> \", a.intersection(b))\n",
    "print (\"Difference a - b    --> \", a - b)\n",
    "print (\"Difference a - b    --> \", a.difference(b))\n",
    "print (\"Difference b - a    --> \", b - a)\n",
    "print (\"Difference b - a    --> \", b.difference(a))\n",
    "print (\"Symetric Diff a - b --> \", a.symmetric_difference(b))\n",
    "print (\"Symetric Diff b - a --> \", b.symmetric_difference(a))"
   ]
  },
  {
   "cell_type": "code",
   "execution_count": 98,
   "id": "974459f5-d167-4893-8fd9-a130e8cc9d3b",
   "metadata": {},
   "outputs": [
    {
     "name": "stdout",
     "output_type": "stream",
     "text": [
      "Original set a       -->  {'F', 'E', 'B', 'A'}\n",
      "Set After Adding (D) -->  {'D', 'E', 'A', 'B', 'F'}\n",
      "Set After Adding (D) -->  {'D', 'E', 'A', 'B', 'F'}\n",
      "Set After Deleting(D)-->  {'E', 'A', 'B', 'F'}\n",
      "Set After pop        -->  {'A', 'B', 'F'}\n",
      "Set After pop        -->  {'B', 'F'}\n"
     ]
    }
   ],
   "source": [
    "#14.3\n",
    "a = set(['A', 'B', 'E', 'F' ])\n",
    "print (\"Original set a       --> \", a)\n",
    "a.add(\"D\")\n",
    "print (\"Set After Adding (D) --> \", a)\n",
    "a.add(\"D\")\n",
    "print (\"Set After Adding (D) --> \", a)\n",
    "a.remove(\"D\")\n",
    "print (\"Set After Deleting(D)--> \", a)\n",
    "a.pop()\n",
    "print (\"Set After pop        --> \", a)\n",
    "a.pop()\n",
    "print (\"Set After pop        --> \", a)"
   ]
  },
  {
   "cell_type": "code",
   "execution_count": 6,
   "id": "725b9c0d-2041-4007-a7f2-d51f8aca808f",
   "metadata": {
    "jupyter": {
     "source_hidden": true
    }
   },
   "outputs": [
    {
     "name": "stdout",
     "output_type": "stream",
     "text": [
      "['C:\\\\Users\\\\Lenovo\\\\AppData\\\\Local\\\\Programs\\\\Python\\\\Python313\\\\Lib\\\\site-packages\\\\ipykernel_launcher.py', '-f', 'C:\\\\Users\\\\Lenovo\\\\AppData\\\\Roaming\\\\jupyter\\\\runtime\\\\kernel-579935a4-ce22-4b5a-9acd-8592e5549680.json']\n"
     ]
    },
    {
     "ename": "ValueError",
     "evalue": "invalid literal for int() with base 10: '-f'",
     "output_type": "error",
     "traceback": [
      "\u001b[1;31m---------------------------------------------------------------------------\u001b[0m",
      "\u001b[1;31mValueError\u001b[0m                                Traceback (most recent call last)",
      "Cell \u001b[1;32mIn[6], line 4\u001b[0m\n\u001b[0;32m      2\u001b[0m \u001b[38;5;28;01mimport\u001b[39;00m\u001b[38;5;250m \u001b[39m\u001b[38;5;21;01msys\u001b[39;00m\n\u001b[0;32m      3\u001b[0m \u001b[38;5;28mprint\u001b[39m (sys\u001b[38;5;241m.\u001b[39margv)\n\u001b[1;32m----> 4\u001b[0m a \u001b[38;5;241m=\u001b[39m \u001b[38;5;28;43mint\u001b[39;49m\u001b[43m(\u001b[49m\u001b[43msys\u001b[49m\u001b[38;5;241;43m.\u001b[39;49m\u001b[43margv\u001b[49m\u001b[43m[\u001b[49m\u001b[38;5;241;43m1\u001b[39;49m\u001b[43m]\u001b[49m\u001b[43m)\u001b[49m \t\u001b[38;5;66;03m# First Number\u001b[39;00m\n\u001b[0;32m      5\u001b[0m b \u001b[38;5;241m=\u001b[39m \u001b[38;5;28mint\u001b[39m(sys\u001b[38;5;241m.\u001b[39margv[\u001b[38;5;241m2\u001b[39m])\t\u001b[38;5;66;03m# Second Number\u001b[39;00m\n\u001b[0;32m      6\u001b[0m c \u001b[38;5;241m=\u001b[39m a \u001b[38;5;241m+\u001b[39m b\n",
      "\u001b[1;31mValueError\u001b[0m: invalid literal for int() with base 10: '-f'"
     ]
    }
   ],
   "source": [
    "#15.1\n",
    "import sys\n",
    "print (sys.argv)\n",
    "a = int(sys.argv[1]) \t# First Number\n",
    "b = int(sys.argv[2])\t# Second Number\n",
    "c = a + b\n",
    "print (a, \" + \", b, \" --> \", c)"
   ]
  },
  {
   "cell_type": "code",
   "execution_count": 100,
   "id": "ceeaced6-94a5-49df-8c08-6f7f505ae056",
   "metadata": {},
   "outputs": [
    {
     "name": "stdout",
     "output_type": "stream",
     "text": [
      "['C:\\\\Users\\\\Neeraj Gupta\\\\AppData\\\\Local\\\\Programs\\\\Python\\\\Python311\\\\Lib\\\\site-packages\\\\ipykernel_launcher.py', '-f', 'C:\\\\Users\\\\Neeraj Gupta\\\\AppData\\\\Roaming\\\\jupyter\\\\runtime\\\\kernel-6cebb14c-d213-43cb-8494-3a96f642d277.json']\n",
      "-f  +  C:\\Users\\Neeraj Gupta\\AppData\\Roaming\\jupyter\\runtime\\kernel-6cebb14c-d213-43cb-8494-3a96f642d277.json  -->  -f C:\\Users\\Neeraj Gupta\\AppData\\Roaming\\jupyter\\runtime\\kernel-6cebb14c-d213-43cb-8494-3a96f642d277.json\n"
     ]
    }
   ],
   "source": [
    "#15.2\n",
    "import sys\n",
    "print (sys.argv)\n",
    "s = sys.argv[1] + \" \" + sys.argv[2]\n",
    "print (sys.argv[1], \" + \", sys.argv[2], \" --> \", s)"
   ]
  },
  {
   "cell_type": "code",
   "execution_count": 102,
   "id": "8d7f5a1c-04be-4d4c-a72b-4c7953bba0d8",
   "metadata": {},
   "outputs": [
    {
     "name": "stdout",
     "output_type": "stream",
     "text": [
      "Writing done !! \n",
      "Open result.txt to view the content\n"
     ]
    }
   ],
   "source": [
    "#16.1\n",
    "fp=open('result.txt','w')\t# Open the file in writing mode\n",
    "for  i in range(1,11):\n",
    "\tfp.write(str(i) + \"\\n\")\t# Writing to the file line by line\n",
    "fp.close()\n",
    "\n",
    "print (\"Writing done !! \\nOpen result.txt to view the content\")"
   ]
  },
  {
   "cell_type": "code",
   "execution_count": 103,
   "id": "d8ce2c9d-5562-44d5-a8ce-70c1e4146f87",
   "metadata": {},
   "outputs": [
    {
     "name": "stdout",
     "output_type": "stream",
     "text": [
      "1\n",
      "2\n",
      "3\n",
      "4\n",
      "5\n",
      "6\n",
      "7\n",
      "8\n",
      "9\n",
      "10\n"
     ]
    }
   ],
   "source": [
    "#16.2\n",
    "fp=open('result.txt')\t\t# Open the file in reading mode\n",
    "for line in fp: \t\t    # print line by line\n",
    "\tprint (line.strip())\n",
    "fp.close()"
   ]
  },
  {
   "cell_type": "code",
   "execution_count": 105,
   "id": "a32cfe37-1935-4575-9f7e-662e8e755a13",
   "metadata": {},
   "outputs": [
    {
     "name": "stdout",
     "output_type": "stream",
     "text": [
      "Writing done !! \n",
      "Open result.txt to view the content\n"
     ]
    }
   ],
   "source": [
    "#16.3\n",
    "Readfp=open('result.txt')\t\t# Open the file in reading mode\n",
    "Writefp=open('abc.txt','w')\t# Open the file in writing mode\n",
    "for line in Readfp:\n",
    "\tWritefp.write(line.upper())\n",
    "\n",
    "Writefp.close()\n",
    "Readfp.close()\n",
    "\n",
    "print (\"Writing done !! \\nOpen result.txt to view the content\")"
   ]
  },
  {
   "cell_type": "code",
   "execution_count": null,
   "id": "8a9fb592-83fe-4ebb-8503-8e69690cd864",
   "metadata": {},
   "outputs": [],
   "source": []
  }
 ],
 "metadata": {
  "kernelspec": {
   "display_name": "Python 3 (ipykernel)",
   "language": "python",
   "name": "python3"
  },
  "language_info": {
   "codemirror_mode": {
    "name": "ipython",
    "version": 3
   },
   "file_extension": ".py",
   "mimetype": "text/x-python",
   "name": "python",
   "nbconvert_exporter": "python",
   "pygments_lexer": "ipython3",
   "version": "3.13.1"
  }
 },
 "nbformat": 4,
 "nbformat_minor": 5
}
